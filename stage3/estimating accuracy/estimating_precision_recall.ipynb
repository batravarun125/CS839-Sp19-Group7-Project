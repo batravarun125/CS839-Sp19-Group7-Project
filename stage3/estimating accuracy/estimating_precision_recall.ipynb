{
  "nbformat": 4,
  "nbformat_minor": 0,
  "metadata": {
    "colab": {
      "name": "estimating_precision_recall.ipynb",
      "version": "0.3.2",
      "provenance": []
    },
    "language_info": {
      "codemirror_mode": {
        "name": "ipython",
        "version": 3
      },
      "file_extension": ".py",
      "mimetype": "text/x-python",
      "name": "python",
      "nbconvert_exporter": "python",
      "pygments_lexer": "ipython3",
      "version": "3.7.1"
    },
    "kernelspec": {
      "display_name": "Python 3",
      "language": "python",
      "name": "python3"
    }
  },
  "cells": [
    {
      "cell_type": "markdown",
      "metadata": {
        "id": "-kCphsQ1ne0G",
        "colab_type": "text"
      },
      "source": [
        "# Prep 1: steps to install the packages"
      ]
    },
    {
      "cell_type": "code",
      "metadata": {
        "id": "9yvw4BuTne0H",
        "colab_type": "code",
        "colab": {
          "base_uri": "https://localhost:8080/",
          "height": 819
        },
        "outputId": "0514484c-b928-41a9-ead9-b73386bb520e"
      },
      "source": [
        "!pip install py_entitymatching\n",
        "!pip install scipy\n",
        "!pip install numpy\n",
        "!pip install pandas"
      ],
      "execution_count": 1,
      "outputs": [
        {
          "output_type": "stream",
          "text": [
            "Collecting py_entitymatching\n",
            "\u001b[?25l  Downloading https://files.pythonhosted.org/packages/ee/d3/2eacdb4ee0e268eb4c041fc2921e880262658b24e15ae470559fb1999eab/py_entitymatching-0.3.1.tar.gz (2.0MB)\n",
            "\u001b[K     |████████████████████████████████| 2.0MB 2.9MB/s \n",
            "\u001b[?25hCollecting PyPrind (from py_entitymatching)\n",
            "  Downloading https://files.pythonhosted.org/packages/1e/30/e76fb0c45da8aef49ea8d2a90d4e7a6877b45894c25f12fb961f009a891e/PyPrind-2.11.2-py3-none-any.whl\n",
            "Collecting py_stringsimjoin==0.3.0 (from py_entitymatching)\n",
            "\u001b[?25l  Downloading https://files.pythonhosted.org/packages/b9/32/28a76b430e092a330850707e34f89419ce77b06dc303e6c5f6cd701ad5ba/py_stringsimjoin-0.3.0.tar.gz (786kB)\n",
            "\u001b[K     |████████████████████████████████| 788kB 39.9MB/s \n",
            "\u001b[?25hRequirement already satisfied: cloudpickle>=0.2.1 in /usr/local/lib/python3.6/dist-packages (from py_entitymatching) (0.6.1)\n",
            "Requirement already satisfied: pyparsing>=2.1.4 in /usr/local/lib/python3.6/dist-packages (from py_entitymatching) (2.4.0)\n",
            "Requirement already satisfied: scikit-learn>=0.18 in /usr/local/lib/python3.6/dist-packages (from py_entitymatching) (0.20.3)\n",
            "Requirement already satisfied: pandas-profiling>=1.4.0 in /usr/local/lib/python3.6/dist-packages (from py_entitymatching) (1.4.1)\n",
            "Requirement already satisfied: joblib in /usr/local/lib/python3.6/dist-packages (from py_stringsimjoin==0.3.0->py_entitymatching) (0.12.5)\n",
            "Requirement already satisfied: pandas>=0.16.0 in /usr/local/lib/python3.6/dist-packages (from py_stringsimjoin==0.3.0->py_entitymatching) (0.24.2)\n",
            "Collecting py_stringmatching>=0.2.1 (from py_stringsimjoin==0.3.0->py_entitymatching)\n",
            "\u001b[?25l  Downloading https://files.pythonhosted.org/packages/3e/a3/89c3d02bbf1e24868673702ebd38a3b76259cb124a5d26d46a050d3fccf2/py_stringmatching-0.4.1.tar.gz (646kB)\n",
            "\u001b[K     |████████████████████████████████| 655kB 17.4MB/s \n",
            "\u001b[?25hRequirement already satisfied: six in /usr/local/lib/python3.6/dist-packages (from py_stringsimjoin==0.3.0->py_entitymatching) (1.12.0)\n",
            "Requirement already satisfied: numpy>=1.8.2 in /usr/local/lib/python3.6/dist-packages (from scikit-learn>=0.18->py_entitymatching) (1.16.3)\n",
            "Requirement already satisfied: scipy>=0.13.3 in /usr/local/lib/python3.6/dist-packages (from scikit-learn>=0.18->py_entitymatching) (1.2.1)\n",
            "Requirement already satisfied: matplotlib>=1.4 in /usr/local/lib/python3.6/dist-packages (from pandas-profiling>=1.4.0->py_entitymatching) (3.0.3)\n",
            "Requirement already satisfied: jinja2>=2.8 in /usr/local/lib/python3.6/dist-packages (from pandas-profiling>=1.4.0->py_entitymatching) (2.10.1)\n",
            "Requirement already satisfied: python-dateutil>=2.5.0 in /usr/local/lib/python3.6/dist-packages (from pandas>=0.16.0->py_stringsimjoin==0.3.0->py_entitymatching) (2.5.3)\n",
            "Requirement already satisfied: pytz>=2011k in /usr/local/lib/python3.6/dist-packages (from pandas>=0.16.0->py_stringsimjoin==0.3.0->py_entitymatching) (2018.9)\n",
            "Requirement already satisfied: kiwisolver>=1.0.1 in /usr/local/lib/python3.6/dist-packages (from matplotlib>=1.4->pandas-profiling>=1.4.0->py_entitymatching) (1.1.0)\n",
            "Requirement already satisfied: cycler>=0.10 in /usr/local/lib/python3.6/dist-packages (from matplotlib>=1.4->pandas-profiling>=1.4.0->py_entitymatching) (0.10.0)\n",
            "Requirement already satisfied: MarkupSafe>=0.23 in /usr/local/lib/python3.6/dist-packages (from jinja2>=2.8->pandas-profiling>=1.4.0->py_entitymatching) (1.1.1)\n",
            "Requirement already satisfied: setuptools in /usr/local/lib/python3.6/dist-packages (from kiwisolver>=1.0.1->matplotlib>=1.4->pandas-profiling>=1.4.0->py_entitymatching) (41.0.1)\n",
            "Building wheels for collected packages: py-entitymatching, py-stringsimjoin, py-stringmatching\n",
            "  Building wheel for py-entitymatching (setup.py) ... \u001b[?25l\u001b[?25hdone\n",
            "  Stored in directory: /root/.cache/pip/wheels/8a/11/32/31986854281ff89654b9e67c1cb5d94dd8f87d7408aaef3c91\n",
            "  Building wheel for py-stringsimjoin (setup.py) ... \u001b[?25l\u001b[?25hdone\n",
            "  Stored in directory: /root/.cache/pip/wheels/69/a2/f7/b748da307ea9120633a58847b0ecec23c97cfccdf81d875282\n",
            "  Building wheel for py-stringmatching (setup.py) ... \u001b[?25l\u001b[?25hdone\n",
            "  Stored in directory: /root/.cache/pip/wheels/60/7a/90/37ae79d15afb482c2fa1a58a45fadd1945ed1d09fc8d50d4b6\n",
            "Successfully built py-entitymatching py-stringsimjoin py-stringmatching\n",
            "Installing collected packages: PyPrind, py-stringmatching, py-stringsimjoin, py-entitymatching\n",
            "Successfully installed PyPrind-2.11.2 py-entitymatching-0.3.1 py-stringmatching-0.4.1 py-stringsimjoin-0.3.0\n",
            "Requirement already satisfied: scipy in /usr/local/lib/python3.6/dist-packages (1.2.1)\n",
            "Requirement already satisfied: numpy>=1.8.2 in /usr/local/lib/python3.6/dist-packages (from scipy) (1.16.3)\n",
            "Requirement already satisfied: numpy in /usr/local/lib/python3.6/dist-packages (1.16.3)\n",
            "Requirement already satisfied: pandas in /usr/local/lib/python3.6/dist-packages (0.24.2)\n",
            "Requirement already satisfied: pytz>=2011k in /usr/local/lib/python3.6/dist-packages (from pandas) (2018.9)\n",
            "Requirement already satisfied: numpy>=1.12.0 in /usr/local/lib/python3.6/dist-packages (from pandas) (1.16.3)\n",
            "Requirement already satisfied: python-dateutil>=2.5.0 in /usr/local/lib/python3.6/dist-packages (from pandas) (2.5.3)\n",
            "Requirement already satisfied: six>=1.5 in /usr/local/lib/python3.6/dist-packages (from python-dateutil>=2.5.0->pandas) (1.12.0)\n"
          ],
          "name": "stdout"
        }
      ]
    },
    {
      "cell_type": "code",
      "metadata": {
        "id": "g6-MyQphnhdF",
        "colab_type": "code",
        "colab": {
          "resources": {
            "http://localhost:8080/nbextensions/google.colab/files.js": {
              "data": "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",
              "ok": true,
              "headers": [
                [
                  "content-type",
                  "application/javascript"
                ]
              ],
              "status": 200,
              "status_text": ""
            }
          },
          "base_uri": "https://localhost:8080/",
          "height": 324
        },
        "outputId": "21e51a11-ffad-46a1-f300-52745fa6a227"
      },
      "source": [
        "from google.colab import files\n",
        "files.upload()\n",
        "files.upload()\n",
        "files.upload()\n",
        "files.upload()\n",
        "files.upload()"
      ],
      "execution_count": 12,
      "outputs": [
        {
          "output_type": "display_data",
          "data": {
            "text/html": [
              "\n",
              "     <input type=\"file\" id=\"files-c1da1ab4-0565-4dc3-9af5-dd79b56fe6f1\" name=\"files[]\" multiple disabled />\n",
              "     <output id=\"result-c1da1ab4-0565-4dc3-9af5-dd79b56fe6f1\">\n",
              "      Upload widget is only available when the cell has been executed in the\n",
              "      current browser session. Please rerun this cell to enable.\n",
              "      </output>\n",
              "      <script src=\"/nbextensions/google.colab/files.js\"></script> "
            ],
            "text/plain": [
              "<IPython.core.display.HTML object>"
            ]
          },
          "metadata": {
            "tags": []
          }
        },
        {
          "output_type": "stream",
          "text": [
            "Saving tablea to tablea\n"
          ],
          "name": "stdout"
        },
        {
          "output_type": "display_data",
          "data": {
            "text/html": [
              "\n",
              "     <input type=\"file\" id=\"files-3b25aa0b-7fbf-4e07-9a86-abd35e29d676\" name=\"files[]\" multiple disabled />\n",
              "     <output id=\"result-3b25aa0b-7fbf-4e07-9a86-abd35e29d676\">\n",
              "      Upload widget is only available when the cell has been executed in the\n",
              "      current browser session. Please rerun this cell to enable.\n",
              "      </output>\n",
              "      <script src=\"/nbextensions/google.colab/files.js\"></script> "
            ],
            "text/plain": [
              "<IPython.core.display.HTML object>"
            ]
          },
          "metadata": {
            "tags": []
          }
        },
        {
          "output_type": "stream",
          "text": [
            "Saving tableb to tableb\n"
          ],
          "name": "stdout"
        },
        {
          "output_type": "display_data",
          "data": {
            "text/html": [
              "\n",
              "     <input type=\"file\" id=\"files-37d2c6ec-7d2e-42a8-b64d-5537bc2d267e\" name=\"files[]\" multiple disabled />\n",
              "     <output id=\"result-37d2c6ec-7d2e-42a8-b64d-5537bc2d267e\">\n",
              "      Upload widget is only available when the cell has been executed in the\n",
              "      current browser session. Please rerun this cell to enable.\n",
              "      </output>\n",
              "      <script src=\"/nbextensions/google.colab/files.js\"></script> "
            ],
            "text/plain": [
              "<IPython.core.display.HTML object>"
            ]
          },
          "metadata": {
            "tags": []
          }
        },
        {
          "output_type": "stream",
          "text": [
            "Saving candidate to candidate\n"
          ],
          "name": "stdout"
        },
        {
          "output_type": "display_data",
          "data": {
            "text/html": [
              "\n",
              "     <input type=\"file\" id=\"files-1520f231-ac2e-453b-a9f2-431d205b2270\" name=\"files[]\" multiple disabled />\n",
              "     <output id=\"result-1520f231-ac2e-453b-a9f2-431d205b2270\">\n",
              "      Upload widget is only available when the cell has been executed in the\n",
              "      current browser session. Please rerun this cell to enable.\n",
              "      </output>\n",
              "      <script src=\"/nbextensions/google.colab/files.js\"></script> "
            ],
            "text/plain": [
              "<IPython.core.display.HTML object>"
            ]
          },
          "metadata": {
            "tags": []
          }
        },
        {
          "output_type": "stream",
          "text": [
            "Saving prediction to prediction\n"
          ],
          "name": "stdout"
        },
        {
          "output_type": "display_data",
          "data": {
            "text/html": [
              "\n",
              "     <input type=\"file\" id=\"files-538712ce-70f4-41a5-970c-edf796134320\" name=\"files[]\" multiple disabled />\n",
              "     <output id=\"result-538712ce-70f4-41a5-970c-edf796134320\">\n",
              "      Upload widget is only available when the cell has been executed in the\n",
              "      current browser session. Please rerun this cell to enable.\n",
              "      </output>\n",
              "      <script src=\"/nbextensions/google.colab/files.js\"></script> "
            ],
            "text/plain": [
              "<IPython.core.display.HTML object>"
            ]
          },
          "metadata": {
            "tags": []
          }
        },
        {
          "output_type": "stream",
          "text": [
            "Saving 400 to 400\n"
          ],
          "name": "stdout"
        },
        {
          "output_type": "execute_result",
          "data": {
            "text/plain": [
              "{'400': b'A_id,B_id,label\\n402,1389,1\\n2917,11,0\\n802,2749,0\\n3324,3834,0\\n4407,3834,0\\n2118,3846,0\\n4406,2745,0\\n1010,1290,1\\n1881,612,1\\n878,464,1\\n1745,2745,0\\n703,2745,0\\n4370,3627,0\\n1019,1068,1\\n3842,3922,0\\n677,608,0\\n1159,3181,0\\n4568,3795,0\\n1470,2745,0\\n1156,3383,0\\n2202,715,0\\n603,2411,0\\n319,3383,0\\n2292,1937,0\\n4485,3181,0\\n4243,2100,0\\n3547,3790,0\\n2335,3834,0\\n1964,2839,1\\n1261,2898,1\\n1398,1810,1\\n3742,3383,0\\n1870,11,0\\n3414,42,0\\n1215,3395,1\\n4521,3301,1\\n1131,822,0\\n4040,1744,0\\n914,1295,0\\n3560,3834,0\\n435,651,0\\n2962,3203,0\\n1793,2665,1\\n2644,3261,1\\n2707,3383,0\\n1581,3846,0\\n3979,3203,0\\n866,3645,0\\n865,1260,1\\n935,55,1\\n1928,1954,0\\n3736,3627,0\\n2144,984,0\\n105,425,0\\n1394,249,0\\n246,3834,0\\n316,2745,0\\n1282,3627,0\\n4201,502,0\\n3582,3627,0\\n3147,1954,0\\n1650,1148,0\\n3418,2197,0\\n4585,3690,0\\n2368,3685,0\\n3398,3181,0\\n2302,3834,0\\n812,2753,0\\n4641,3275,1\\n1972,11,0\\n4066,832,0\\n3118,2188,0\\n1654,2745,0\\n2139,11,0\\n1173,3834,0\\n3964,3834,0\\n2173,11,0\\n3650,3809,1\\n4547,3383,0\\n915,3592,0\\n842,30,0\\n4672,1025,0\\n989,3383,0\\n4083,3834,0\\n4648,840,0\\n1646,298,0\\n1741,1662,1\\n4427,249,0\\n1759,520,0\\n2526,1861,1\\n2737,1745,1\\n3824,3181,0\\n214,3203,0\\n4592,2835,0\\n1262,2745,0\\n292,1544,1\\n4929,3181,0\\n4662,2094,1\\n3587,1046,1\\n1553,3834,0\\n3131,3846,0\\n537,3725,0\\n2507,3203,0\\n792,3383,0\\n3714,3789,0\\n2770,2149,1\\n2929,3383,0\\n2207,3627,0\\n55,3790,0\\n4460,2745,0\\n2828,527,0\\n2995,2212,1\\n1119,430,0\\n1162,3374,0\\n1809,3203,0\\n2575,3834,0\\n3137,3627,0\\n2515,2036,1\\n3607,2692,1\\n854,3203,0\\n3268,3203,0\\n4492,1937,0\\n4157,3627,0\\n1008,253,1\\n4122,2197,0\\n1190,1954,0\\n4147,2928,1\\n4605,2100,0\\n4315,1937,0\\n100,3834,0\\n3719,2745,0\\n4019,2745,0\\n3941,3627,0\\n2276,1634,1\\n2810,882,0\\n3245,3615,0\\n2347,1542,0\\n2808,2745,0\\n363,399,1\\n693,3627,0\\n1885,3383,0\\n203,3627,0\\n2629,2519,0\\n2495,3203,0\\n179,330,0\\n2832,1651,1\\n4904,3627,0\\n2714,3042,0\\n927,1471,1\\n2929,1937,0\\n4561,1954,0\\n3567,3181,0\\n4629,11,0\\n4790,1954,0\\n4793,3846,0\\n3557,3742,1\\n3503,3985,0\\n548,284,1\\n908,804,1\\n1361,687,0\\n4872,913,0\\n3009,2593,0\\n905,3846,0\\n1960,839,1\\n1852,2750,1\\n4814,3627,0\\n3424,1673,1\\n4727,2765,0\\n3724,3342,1\\n2673,3627,0\\n1097,381,0\\n2543,2089,1\\n3783,3383,0\\n208,3627,0\\n3394,3643,1\\n1431,1807,1\\n3267,3584,1\\n3328,3834,0\\n3067,1954,0\\n803,2642,1\\n2208,1987,0\\n2111,3343,1\\n3856,3834,0\\n2304,364,0\\n2330,3627,0\\n1166,1650,1\\n4128,11,0\\n2425,2099,1\\n4937,1937,0\\n1453,3181,0\\n4021,11,0\\n2632,2745,0\\n4370,11,0\\n2789,822,1\\n4231,11,0\\n421,3383,0\\n2522,2920,1\\n1365,2197,0\\n20,3834,0\\n4834,3996,1\\n4177,3860,0\\n466,666,1\\n4648,3685,0\\n1688,3834,0\\n3795,3181,0\\n193,3383,0\\n845,806,1\\n1340,2628,1\\n1513,1954,0\\n2194,3368,1\\n273,3834,0\\n3878,1606,0\\n3789,198,0\\n1423,764,1\\n1770,1721,1\\n3850,3064,0\\n3567,3846,0\\n3741,2745,0\\n3812,1937,0\\n1497,810,0\\n3499,3159,0\\n3209,3834,0\\n632,735,0\\n4398,47,0\\n1651,1106,0\\n3302,2197,0\\n3789,3098,0\\n3564,2745,0\\n4792,3627,0\\n1835,3834,0\\n2598,568,1\\n1967,2951,0\\n560,3627,0\\n3201,3585,1\\n4910,3846,0\\n4663,3627,0\\n3435,198,0\\n180,3620,0\\n2587,3181,0\\n2214,605,1\\n4386,2197,0\\n2342,2745,0\\n1915,2197,0\\n3173,3115,1\\n3805,11,0\\n1803,1582,1\\n1751,376,0\\n3842,2073,0\\n1482,3085,1\\n2850,2433,0\\n303,3834,0\\n4455,2745,0\\n1987,3181,0\\n1269,2745,0\\n1650,2605,0\\n961,3498,0\\n3715,3383,0\\n3185,3203,0\\n4437,2302,1\\n1336,3627,0\\n4205,2197,0\\n1365,11,0\\n1398,3383,0\\n4663,3834,0\\n3567,2745,0\\n157,1954,0\\n198,3585,0\\n1698,3203,0\\n871,3255,0\\n1807,2745,0\\n3415,2197,0\\n4017,113,0\\n893,3834,0\\n4937,3203,0\\n2088,3957,1\\n2850,2049,1\\n1000,3627,0\\n4493,3834,0\\n1286,1975,1\\n1536,3627,0\\n4175,3846,0\\n3301,4,0\\n2716,1606,0\\n3980,11,0\\n4035,3656,0\\n2899,2063,1\\n2498,3627,0\\n799,444,0\\n4231,1954,0\\n3158,2197,0\\n4793,3203,0\\n2546,2224,0\\n2997,3846,0\\n2329,3129,0\\n3157,1894,0\\n2483,3834,0\\n1101,3580,0\\n4566,2745,0\\n4842,3752,1\\n4430,2247,0\\n941,2183,1\\n3795,3770,0\\n1363,1719,1\\n2611,2877,0\\n1193,1597,1\\n3977,11,0\\n2407,1249,0\\n919,745,1\\n4636,2432,0\\n1745,1937,0\\n3344,966,0\\n2550,3834,0\\n4537,1347,0\\n3457,2745,0\\n2235,3181,0\\n716,2745,0\\n2752,3627,0\\n1815,375,1\\n1904,3383,0\\n4288,3393,1\\n1468,3627,0\\n1785,3073,1\\n592,3627,0\\n3789,2355,0\\n3079,1189,0\\n935,3383,0\\n2718,3383,0\\n4343,3627,0\\n3683,3770,0\\n4932,3098,0\\n2282,3627,0\\n301,56,0\\n3079,1209,9\\n3179,3627,0\\n704,70,1\\n2233,2044,1\\n4315,3800,0\\n1336,2197,0\\n2153,1241,0\\n404,331,1\\n1012,1726,1\\n1304,1311,0\\n22,3627,0\\n4840,832,0\\n1722,1954,0\\n2854,1954,0\\n858,276,1\\n3072,3585,0\\n637,3383,0\\n2370,282,1\\n1650,533,0\\n4932,3800,0\\n1034,2407,1\\n4287,3846,0\\n3216,3181,0\\n3755,2212,0\\n3422,2745,0\\n904,2131,1\\n1232,3181,0\\n3415,3846,0\\n3167,3900,1\\n4013,1954,0\\n3183,894,0\\n1602,3285,0\\n3415,1954,0\\n280,1954,0\\n427,66,1\\n4879,1952,0\\n3516,2801,0\\n2649,1148,0\\n214,453,1\\n3143,3181,0\\n1682,3284,1\\n153,280,1\\n4765,3383,0\\n2626,2745,0\\n4294,3092,0\\n405,3789,0\\n769,1091,0\\n324,3627,0\\n3913,3181,0\\n3293,1954,0\\n1743,3627,0\\n3127,3846,0\\n4946,3834,0\\n157,2197,0\\n2565,3126,1\\n23,3627,0\\n3816,3181,0\\n1025,3383,0\\n2582,3203,0\\n2267,2039,1\\n2713,1035,1\\n93,2913,0\\n1194,3627,0\\n1136,11,0\\n4396,753,1\\n3285,3203,0\\n3089,374,0\\n2184,3834,0\\n'}"
            ]
          },
          "metadata": {
            "tags": []
          },
          "execution_count": 12
        }
      ]
    },
    {
      "cell_type": "markdown",
      "metadata": {
        "id": "YW58a5GJne0N",
        "colab_type": "text"
      },
      "source": [
        "# Prep 2: enter the file location on your harddisk"
      ]
    },
    {
      "cell_type": "code",
      "metadata": {
        "id": "KKGczePgne0N",
        "colab_type": "code",
        "colab": {}
      },
      "source": [
        "table_a = 'tablea'\n",
        "table_b = 'tableb'\n",
        "candidate_set = 'candidate'\n",
        "prediction_set = 'prediction'"
      ],
      "execution_count": 0,
      "outputs": []
    },
    {
      "cell_type": "markdown",
      "metadata": {
        "id": "Kp9M5Wrtne0P",
        "colab_type": "text"
      },
      "source": [
        "# Prep 3: reading the files into pandas dataframe"
      ]
    },
    {
      "cell_type": "code",
      "metadata": {
        "id": "ifytVCbysOV5",
        "colab_type": "code",
        "colab": {}
      },
      "source": [
        "import pandas as pd"
      ],
      "execution_count": 0,
      "outputs": []
    },
    {
      "cell_type": "code",
      "metadata": {
        "id": "_zdmrQGmne0Q",
        "colab_type": "code",
        "colab": {}
      },
      "source": [
        "dfa = pd.read_csv(table_a)\n",
        "dfb = pd.read_csv(table_b)\n",
        "dfc = pd.read_csv(candidate_set)\n",
        "dfp = pd.read_csv(prediction_set)"
      ],
      "execution_count": 0,
      "outputs": []
    },
    {
      "cell_type": "markdown",
      "metadata": {
        "id": "2UrQza7Jne0S",
        "colab_type": "text"
      },
      "source": [
        "# Module: debug_blocker\n",
        "# Description: debug the blocking rule using the below script to ensure you are not dropping true matches\n",
        "# Note: You need to run Prep 1 and 2 in order to run this"
      ]
    },
    {
      "cell_type": "code",
      "metadata": {
        "id": "4FRM1Vcgne0U",
        "colab_type": "code",
        "colab": {}
      },
      "source": [
        "# Example input format:\n",
        "# Format of table_a:\n",
        "# _id, attribute1, attribute2, ....., attributen\n",
        "\n",
        "# Format of table_b:\n",
        "# _id, attribute1, attribute2, ....., attributen\n",
        "\n",
        "# Format of candidate_set\n",
        "# A_id,B_id\n",
        "# where A_id is _id from table_a and B_id is the _id column value from table_b"
      ],
      "execution_count": 0,
      "outputs": []
    },
    {
      "cell_type": "code",
      "metadata": {
        "id": "ZqWqwZyine0W",
        "colab_type": "code",
        "colab": {}
      },
      "source": [
        "import py_entitymatching as em\n",
        "\n",
        "def run_debug_blocker(table_a, table_b, table_a_key, table_b_key, candidate_set):\n",
        "    dfl = em.read_csv_metadata(table_a, key=table_a_key)\n",
        "    dfr = em.read_csv_metadata(table_b, key=table_b_key)\n",
        "\n",
        "    # reading the candidate set and adding key\n",
        "    dfcand = pd.read_csv(candidate_set)\n",
        "    dfcand.drop_duplicates(inplace=True)\n",
        "    dfcand.to_csv('cand_set_with_index.csv', index_label='id')\n",
        "\n",
        "    dfcset = em.read_csv_metadata('cand_set_with_index.csv', key='id', ltable=dfl, \n",
        "                                  rtable=dfr, fk_ltable='A_id', fk_rtable='B_id')\n",
        "\n",
        "    # running debug blocker to identify the records in A x B \\ C\n",
        "    debug_file = em.debug_blocker(dfcset, dfl, dfr)\n",
        "    \n",
        "    return debug_file"
      ],
      "execution_count": 0,
      "outputs": []
    },
    {
      "cell_type": "code",
      "metadata": {
        "id": "03zgaI35ne0Y",
        "colab_type": "code",
        "colab": {
          "base_uri": "https://localhost:8080/",
          "height": 68
        },
        "outputId": "1a114a55-7bcd-421c-b35a-4a142b2e5ad0"
      },
      "source": [
        "debug_file = run_debug_blocker(table_a, table_b, '_id', '_id', candidate_set)"
      ],
      "execution_count": 28,
      "outputs": [
        {
          "output_type": "stream",
          "text": [
            "Metadata file is not present in the given path; proceeding to read the csv file.\n",
            "Metadata file is not present in the given path; proceeding to read the csv file.\n",
            "Metadata file is not present in the given path; proceeding to read the csv file.\n"
          ],
          "name": "stderr"
        }
      ]
    },
    {
      "cell_type": "markdown",
      "metadata": {
        "id": "3qfH8_9vne0a",
        "colab_type": "text"
      },
      "source": [
        "# Module: estimate_precision_recall\n",
        "# Description: the below code helps you get an estimation of P/R on the candidate set."
      ]
    },
    {
      "cell_type": "code",
      "metadata": {
        "id": "IJEl1I6Nne0a",
        "colab_type": "code",
        "colab": {}
      },
      "source": [
        "import pandas as pd\n",
        "from scipy.stats import norm\n",
        "from numpy import sqrt\n",
        "\n",
        "\n",
        "delta = .05\n",
        "Z = norm.ppf(1 - (delta / 2))\n",
        "\n",
        "def estimate_PR(labeled_pairs, reduced_cands, predicted_matches):\n",
        "    '''\n",
        "    labeled_pairs - a pandas dataframe with schema id1,id2,label\n",
        "                    Note label needs to be Boolean\n",
        "\n",
        "    reduced_cands - a pandas dataframe with schema id1,id2\n",
        "    predicted_matches - a pandas dataframe with schema id1,id2\n",
        "    \n",
        "    return:\n",
        "        ( (recall lower bound, recall upper bound), (precision lower bound, precision upper bound) )\n",
        "    '''\n",
        "\n",
        "    reduced_cand_set = set(zip(reduced_cands.id1, reduced_cands.id2))\n",
        "    predicted_matches = set(zip(predicted_matches.id1, predicted_matches.id2))\n",
        "    \n",
        "    # estimate the recall\n",
        "    # number of positives in the labeled sample\n",
        "    actual_pos = float(labeled_pairs.label.sum())\n",
        "    # the maximum number of postives in the candidate set\n",
        "    max_actual_pos = float(actual_pos + len(reduced_cand_set) - len(labeled_pairs))\n",
        "    \n",
        "    # true positives in the labeled sample\n",
        "    true_pos = float(labeled_pairs.apply(lambda x : (x['id1'], x['id2']) in predicted_matches and x['label'], axis=1).sum())\n",
        "    #estimated recall\n",
        "    recall = float(true_pos / actual_pos)\n",
        "\n",
        "    recall_error = Z * sqrt( int(((recall * (1 - recall)) / actual_pos) * ((max_actual_pos - actual_pos) / max_actual_pos - 1) ))\n",
        "\n",
        "\n",
        "    # estimate Precision\n",
        "    labeled_set  = set(zip(labeled_pairs.id1, labeled_pairs.id2))\n",
        "    predicted_pos = float(len(labeled_set & predicted_matches))\n",
        "    \n",
        "    predicted_pos_in_reduced_cand_set = float(len(reduced_cand_set & predicted_matches))\n",
        "    \n",
        "    alpha =  predicted_pos_in_reduced_cand_set / len(predicted_matches)\n",
        "    precision = alpha * (true_pos / predicted_pos)\n",
        "    \n",
        "    precision_error = alpha * Z * sqrt( ((precision * (1 - precision)) / predicted_pos) * (float((len(predicted_matches) - predicted_pos)) / (len(predicted_matches)  - 1)) )\n",
        "    \n",
        "\n",
        "    return ((recall - recall_error, recall + recall_error),\n",
        "            (precision - precision_error, 1 if precision+precision_error else precision+precision_error))"
      ],
      "execution_count": 0,
      "outputs": []
    },
    {
      "cell_type": "code",
      "metadata": {
        "id": "Fyz_-85wne0d",
        "colab_type": "code",
        "colab": {
          "base_uri": "https://localhost:8080/",
          "height": 34
        },
        "outputId": "e12c343c-e2c9-49a0-989e-f64fcca3b56d"
      },
      "source": [
        "labeled = pd.read_csv('400')\n",
        "labeled = labeled.rename(columns={'A_id':'id1','B_id':'id2','label':'label'})\n",
        "dfc = dfc.rename(columns={'A_id':'id1','B_id':'id2'})\n",
        "dfp = dfp.rename(columns={'A_id':'id1','B_id':'id2','matching_probability':'matching_probability'})\n",
        "print(estimate_PR(labeled, dfc, dfp))"
      ],
      "execution_count": 78,
      "outputs": [
        {
          "output_type": "stream",
          "text": [
            "((1.0, 1.0), (0.9489684697118062, 1))\n"
          ],
          "name": "stdout"
        }
      ]
    }
  ]
}